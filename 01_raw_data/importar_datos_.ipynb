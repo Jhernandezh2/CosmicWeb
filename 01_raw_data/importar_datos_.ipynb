{
 "cells": [
  {
   "cell_type": "code",
   "execution_count": 1,
   "id": "64e8f4e4-93c3-4944-b2e4-7175ee8b758d",
   "metadata": {},
   "outputs": [
    {
     "name": "stderr",
     "output_type": "stream",
     "text": [
      "WARNING: UnitsWarning: 'nanomaggy' did not parse as fits unit: At col 0, Unit 'nanomaggy' not supported by the FITS standard.  If this is meant to be a custom unit, define it with 'u.def_unit'. To have it recognized inside a file reader or other code, enable it with 'u.add_enabled_units'. For details, see https://docs.astropy.org/en/latest/units/combining_and_defining.html [astropy.units.core]\n",
      "WARNING: UnitsWarning: 'nanomaggy' did not parse as fits unit: At col 0, Unit 'nanomaggy' not supported by the FITS standard.  If this is meant to be a custom unit, define it with 'u.def_unit'. To have it recognized inside a file reader or other code, enable it with 'u.add_enabled_units'. For details, see https://docs.astropy.org/en/latest/units/combining_and_defining.html [astropy.units.core]\n",
      "WARNING: UnitsWarning: 'nanomaggy' did not parse as fits unit: At col 0, Unit 'nanomaggy' not supported by the FITS standard.  If this is meant to be a custom unit, define it with 'u.def_unit'. To have it recognized inside a file reader or other code, enable it with 'u.add_enabled_units'. For details, see https://docs.astropy.org/en/latest/units/combining_and_defining.html [astropy.units.core]\n",
      "WARNING: UnitsWarning: 'nanomaggy' did not parse as fits unit: At col 0, Unit 'nanomaggy' not supported by the FITS standard.  If this is meant to be a custom unit, define it with 'u.def_unit'. To have it recognized inside a file reader or other code, enable it with 'u.add_enabled_units'. For details, see https://docs.astropy.org/en/latest/units/combining_and_defining.html [astropy.units.core]\n",
      "WARNING: UnitsWarning: 'nanomaggy' did not parse as fits unit: At col 0, Unit 'nanomaggy' not supported by the FITS standard.  If this is meant to be a custom unit, define it with 'u.def_unit'. To have it recognized inside a file reader or other code, enable it with 'u.add_enabled_units'. For details, see https://docs.astropy.org/en/latest/units/combining_and_defining.html [astropy.units.core]\n",
      "WARNING: UnitsWarning: 'nanomaggy' did not parse as fits unit: At col 0, Unit 'nanomaggy' not supported by the FITS standard.  If this is meant to be a custom unit, define it with 'u.def_unit'. To have it recognized inside a file reader or other code, enable it with 'u.add_enabled_units'. For details, see https://docs.astropy.org/en/latest/units/combining_and_defining.html [astropy.units.core]\n",
      "WARNING: UnitsWarning: 'nanomaggy' did not parse as fits unit: At col 0, Unit 'nanomaggy' not supported by the FITS standard.  If this is meant to be a custom unit, define it with 'u.def_unit'. To have it recognized inside a file reader or other code, enable it with 'u.add_enabled_units'. For details, see https://docs.astropy.org/en/latest/units/combining_and_defining.html [astropy.units.core]\n",
      "WARNING: UnitsWarning: 'nanomaggy' did not parse as fits unit: At col 0, Unit 'nanomaggy' not supported by the FITS standard.  If this is meant to be a custom unit, define it with 'u.def_unit'. To have it recognized inside a file reader or other code, enable it with 'u.add_enabled_units'. For details, see https://docs.astropy.org/en/latest/units/combining_and_defining.html [astropy.units.core]\n",
      "WARNING: UnitsWarning: 'nanomaggy' did not parse as fits unit: At col 0, Unit 'nanomaggy' not supported by the FITS standard.  If this is meant to be a custom unit, define it with 'u.def_unit'. To have it recognized inside a file reader or other code, enable it with 'u.add_enabled_units'. For details, see https://docs.astropy.org/en/latest/units/combining_and_defining.html [astropy.units.core]\n",
      "WARNING: UnitsWarning: 'nanomaggy' did not parse as fits unit: At col 0, Unit 'nanomaggy' not supported by the FITS standard.  If this is meant to be a custom unit, define it with 'u.def_unit'. To have it recognized inside a file reader or other code, enable it with 'u.add_enabled_units'. For details, see https://docs.astropy.org/en/latest/units/combining_and_defining.html [astropy.units.core]\n",
      "WARNING: UnitsWarning: 'nanomaggy' did not parse as fits unit: At col 0, Unit 'nanomaggy' not supported by the FITS standard.  If this is meant to be a custom unit, define it with 'u.def_unit'. To have it recognized inside a file reader or other code, enable it with 'u.add_enabled_units'. For details, see https://docs.astropy.org/en/latest/units/combining_and_defining.html [astropy.units.core]\n",
      "WARNING: UnitsWarning: 'nanomaggy' did not parse as fits unit: At col 0, Unit 'nanomaggy' not supported by the FITS standard.  If this is meant to be a custom unit, define it with 'u.def_unit'. To have it recognized inside a file reader or other code, enable it with 'u.add_enabled_units'. For details, see https://docs.astropy.org/en/latest/units/combining_and_defining.html [astropy.units.core]\n",
      "WARNING: UnitsWarning: 'nanomaggy' did not parse as fits unit: At col 0, Unit 'nanomaggy' not supported by the FITS standard.  If this is meant to be a custom unit, define it with 'u.def_unit'. To have it recognized inside a file reader or other code, enable it with 'u.add_enabled_units'. For details, see https://docs.astropy.org/en/latest/units/combining_and_defining.html [astropy.units.core]\n",
      "WARNING: UnitsWarning: 'nanomaggy' did not parse as fits unit: At col 0, Unit 'nanomaggy' not supported by the FITS standard.  If this is meant to be a custom unit, define it with 'u.def_unit'. To have it recognized inside a file reader or other code, enable it with 'u.add_enabled_units'. For details, see https://docs.astropy.org/en/latest/units/combining_and_defining.html [astropy.units.core]\n",
      "WARNING: UnitsWarning: 'nanomaggy' did not parse as fits unit: At col 0, Unit 'nanomaggy' not supported by the FITS standard.  If this is meant to be a custom unit, define it with 'u.def_unit'. To have it recognized inside a file reader or other code, enable it with 'u.add_enabled_units'. For details, see https://docs.astropy.org/en/latest/units/combining_and_defining.html [astropy.units.core]\n"
     ]
    },
    {
     "name": "stdout",
     "output_type": "stream",
     "text": [
      "Datos cargados correctamente.\n"
     ]
    },
    {
     "name": "stderr",
     "output_type": "stream",
     "text": [
      "WARNING: UnitsWarning: 'nanomaggy' did not parse as fits unit: At col 0, Unit 'nanomaggy' not supported by the FITS standard.  If this is meant to be a custom unit, define it with 'u.def_unit'. To have it recognized inside a file reader or other code, enable it with 'u.add_enabled_units'. For details, see https://docs.astropy.org/en/latest/units/combining_and_defining.html [astropy.units.core]\n",
      "WARNING: UnitsWarning: 'nanomaggy' did not parse as fits unit: At col 0, Unit 'nanomaggy' not supported by the FITS standard.  If this is meant to be a custom unit, define it with 'u.def_unit'. To have it recognized inside a file reader or other code, enable it with 'u.add_enabled_units'. For details, see https://docs.astropy.org/en/latest/units/combining_and_defining.html [astropy.units.core]\n",
      "WARNING: UnitsWarning: 'nanomaggy' did not parse as fits unit: At col 0, Unit 'nanomaggy' not supported by the FITS standard.  If this is meant to be a custom unit, define it with 'u.def_unit'. To have it recognized inside a file reader or other code, enable it with 'u.add_enabled_units'. For details, see https://docs.astropy.org/en/latest/units/combining_and_defining.html [astropy.units.core]\n",
      "WARNING: UnitsWarning: 'nanomaggy' did not parse as fits unit: At col 0, Unit 'nanomaggy' not supported by the FITS standard.  If this is meant to be a custom unit, define it with 'u.def_unit'. To have it recognized inside a file reader or other code, enable it with 'u.add_enabled_units'. For details, see https://docs.astropy.org/en/latest/units/combining_and_defining.html [astropy.units.core]\n",
      "WARNING: UnitsWarning: 'nanomaggy' did not parse as fits unit: At col 0, Unit 'nanomaggy' not supported by the FITS standard.  If this is meant to be a custom unit, define it with 'u.def_unit'. To have it recognized inside a file reader or other code, enable it with 'u.add_enabled_units'. For details, see https://docs.astropy.org/en/latest/units/combining_and_defining.html [astropy.units.core]\n"
     ]
    }
   ],
   "source": [
    "from astropy.table import Table as t\n",
    "\n",
    "# URL base de los datos de DESI Early Data Release\n",
    "base_url = 'https://data.desi.lbl.gov/public/edr/vac/edr/lss/v2.0/LSScats/clustering/'\n",
    "\n",
    "# Archivos para BGS Norte y Sur (datos y randoms)\n",
    "dat_N_url = f'{base_url}BGS_ANY_N_clustering.dat.fits'\n",
    "rand_N_url = f'{base_url}BGS_ANY_N_2_clustering.ran.fits'\n",
    "\n",
    "dat_S_url = f'{base_url}BGS_ANY_S_clustering.dat.fits'\n",
    "rand_S_url = f'{base_url}SBGS_ANY_S_2_clustering.ran.fits'\n",
    "\n",
    "data_N = t.read(dat_N_url)\n",
    "rand_N = t.read(rand_N_url)\n",
    "\n",
    "data_S = t.read(dat_S_url)\n",
    "rand_S = t.read(rand_S_url)\n",
    "\n",
    "print(\"Datos cargados correctamente.\")\n"
   ]
  },
  {
   "cell_type": "code",
   "execution_count": 6,
   "id": "b423b7a3-f4d9-4a23-90aa-fa701a7ffc8a",
   "metadata": {},
   "outputs": [
    {
     "name": "stdout",
     "output_type": "stream",
     "text": [
      "Columnas en data_:\n",
      "['RA', 'DEC', 'TARGETID', 'NTILE', 'TILES', 'Z', 'COMP_TILE', 'ROSETTE_NUMBER', 'ROSETTE_R', 'FRACZ_TILELOCID', 'BITWEIGHTS', 'PROB_OBS', 'WEIGHT_ZFAIL', 'WEIGHT', 'FLUX_G_DERED', 'FLUX_R_DERED', 'FLUX_Z_DERED', 'FLUX_W1_DERED', 'FLUX_W2_DERED', 'REST_GMR_0P1', 'KCORR_R0P1', 'KCORR_G0P1', 'KCORR_R0P0', 'KCORR_G0P0', 'REST_GMR_0P0', 'EQ_ALL_0P0', 'EQ_ALL_0P1', 'ABSMAG_R', 'NZ', 'WEIGHT_FKP']\n",
      "Columnas en random:\n",
      "['TARGETID', 'RA', 'DEC', 'NTILE', 'TILES', 'ROSETTE_NUMBER', 'ROSETTE_R', 'COMP_TILE', 'Z', 'WEIGHT', 'FLUX_G_DERED', 'FLUX_R_DERED', 'FLUX_Z_DERED', 'FLUX_W1_DERED', 'FLUX_W2_DERED', 'REST_GMR_0P1', 'KCORR_R0P1', 'KCORR_G0P1', 'KCORR_R0P0', 'KCORR_G0P0', 'REST_GMR_0P0', 'EQ_ALL_0P0', 'EQ_ALL_0P1', 'ABSMAG_R', 'NZ', 'WEIGHT_FKP']\n",
      "Rosetas disponibles:\n",
      "Norte: [np.int32(3), np.int32(6), np.int32(7), np.int32(11), np.int32(12), np.int32(13), np.int32(14), np.int32(15), np.int32(18), np.int32(19)]\n",
      "Sur: [np.int32(0), np.int32(1), np.int32(2), np.int32(4), np.int32(5), np.int32(8), np.int32(9), np.int32(10), np.int32(16), np.int32(17)]\n"
     ]
    }
   ],
   "source": [
    "print(\"Columnas en data_:\")\n",
    "print(data_N.colnames)\n",
    "\n",
    "print(\"Columnas en random:\")\n",
    "print(rand_N.colnames)\n",
    "\n",
    "# Verificar cuántas rosetas hay en el norte y en el sur\n",
    "print(\"Rosetas disponibles:\")\n",
    "print(\"Norte:\", sorted(set(data_N['ROSETTE_NUMBER'])))\n",
    "print(\"Sur:\", sorted(set(data_S['ROSETTE_NUMBER'])))"
   ]
  },
  {
   "cell_type": "code",
   "execution_count": 7,
   "id": "44e701e2-63ae-49ec-ad4a-6cd19872b783",
   "metadata": {},
   "outputs": [
    {
     "data": {
      "text/html": [
       "<div><i>Table length=5</i>\n",
       "<table id=\"table2329608520032\" class=\"table-striped table-bordered table-condensed\">\n",
       "<thead><tr><th>RA</th><th>DEC</th><th>TARGETID</th><th>NTILE</th><th>TILES</th><th>Z</th><th>COMP_TILE</th><th>ROSETTE_NUMBER</th><th>ROSETTE_R</th><th>FRACZ_TILELOCID</th><th>BITWEIGHTS</th><th>PROB_OBS</th><th>WEIGHT_ZFAIL</th><th>WEIGHT</th><th>FLUX_G_DERED</th><th>FLUX_R_DERED</th><th>FLUX_Z_DERED</th><th>FLUX_W1_DERED</th><th>FLUX_W2_DERED</th><th>REST_GMR_0P1</th><th>KCORR_R0P1</th><th>KCORR_G0P1</th><th>KCORR_R0P0</th><th>KCORR_G0P0</th><th>REST_GMR_0P0</th><th>EQ_ALL_0P0</th><th>EQ_ALL_0P1</th><th>ABSMAG_R</th><th>NZ</th><th>WEIGHT_FKP</th></tr></thead>\n",
       "<thead><tr><th>deg</th><th>deg</th><th></th><th></th><th></th><th></th><th></th><th></th><th>deg</th><th></th><th></th><th></th><th></th><th></th><th>nanomaggy</th><th>nanomaggy</th><th>nanomaggy</th><th>nanomaggy</th><th>nanomaggy</th><th></th><th></th><th></th><th></th><th></th><th></th><th></th><th></th><th></th><th>h3 / Mpc3</th><th></th></tr></thead>\n",
       "<thead><tr><th>float64</th><th>float64</th><th>int64</th><th>int64</th><th>bytes43</th><th>float64</th><th>float64</th><th>int32</th><th>float64</th><th>float64</th><th>int64[2]</th><th>float64</th><th>float64</th><th>float64</th><th>float32</th><th>float32</th><th>float32</th><th>float32</th><th>float32</th><th>float64</th><th>float64</th><th>float64</th><th>float64</th><th>float64</th><th>float64</th><th>float64</th><th>float64</th><th>float64</th><th>float64</th><th>float64</th></tr></thead>\n",
       "<tr><td>191.14757099005186</td><td>60.345815959235</td><td>39633390185480938</td><td>1</td><td>100</td><td>0.2819459922463374</td><td>0.4318181818181818</td><td>3</td><td>1.5743490921284766</td><td>0.3333333333333333</td><td>-8790991219464744880 .. -4387867067969646830</td><td>0.3203125</td><td>1.0</td><td>3.0714285714285716</td><td>6.782468</td><td>16.732075</td><td>29.996437</td><td>31.939342</td><td>25.343126</td><td>0.6031055527358372</td><td>-0.0007029256786438565</td><td>0.3765973290806362</td><td>0.21603985022885944</td><td>0.6418090846178732</td><td>0.5546365731061034</td><td>-0.27348761247894726</td><td>-0.17648761247894723</td><td>-20.57725329656256</td><td>0.0076878089647186044</td><td>0.0189012692383565</td></tr>\n",
       "<tr><td>187.05117249536465</td><td>62.614542270156655</td><td>39633416324383107</td><td>1</td><td>100</td><td>0.2703579310142208</td><td>0.4318181818181818</td><td>3</td><td>1.5579854421783794</td><td>1.0</td><td>-1 .. -1</td><td>1.0</td><td>1.0</td><td>1.0</td><td>4.4575434</td><td>17.798513</td><td>37.420948</td><td>46.075268</td><td>30.963612</td><td>0.9961770755006489</td><td>0.146409873660811</td><td>0.6534524026523496</td><td>0.3797334250181883</td><td>1.0502045184025013</td><td>0.8327485111078745</td><td>-0.2622471930837942</td><td>-0.16524719308379415</td><td>-20.687302138556465</td><td>0.0076878089647186044</td><td>0.0189012692383565</td></tr>\n",
       "<tr><td>187.83760708675698</td><td>60.38987543677365</td><td>39633393155049303</td><td>1</td><td>100</td><td>0.1731108191825362</td><td>0.4318181818181818</td><td>3</td><td>1.7267282368438097</td><td>0.2</td><td>-6539912815536352385 .. 9025372152329235987</td><td>0.546875</td><td>1.0</td><td>1.8169014084507042</td><td>13.26433</td><td>27.728409</td><td>46.020153</td><td>37.03337</td><td>25.867756</td><td>0.6595463164766608</td><td>-0.04866411688213576</td><td>0.09238961852108621</td><td>0.17196093424278175</td><td>0.3785062363399163</td><td>0.5940547497827482</td><td>-0.16791749460706012</td><td>-0.07091749460706011</td><td>-19.887912075290714</td><td>0.017861571797760857</td><td>0.008223843310435642</td></tr>\n",
       "<tr><td>188.7298325265811</td><td>60.181046704454054</td><td>39633390164510257</td><td>1</td><td>100</td><td>0.2854181586411897</td><td>0.4318181818181818</td><td>3</td><td>1.7154596184117625</td><td>0.3333333333333333</td><td>601583918157758562 .. -8934769733576671188</td><td>0.265625</td><td>1.0</td><td>3.6857142857142855</td><td>9.799708</td><td>23.07847</td><td>40.24855</td><td>43.608025</td><td>32.920425</td><td>0.5506603859408487</td><td>-0.027984211522950803</td><td>0.35134044892291943</td><td>0.17986420125298275</td><td>0.5984338493516907</td><td>0.5114153982880107</td><td>-0.276855613881954</td><td>-0.17985561388195398</td><td>-20.929555511419682</td><td>0.0076878089647186044</td><td>0.0189012692383565</td></tr>\n",
       "<tr><td>187.04622815471808</td><td>60.82670180284912</td><td>39633396124617897</td><td>1</td><td>100</td><td>0.37400455377945924</td><td>0.4318181818181818</td><td>3</td><td>1.6801915534232357</td><td>1.0</td><td>-1 .. -1</td><td>1.0</td><td>1.0</td><td>1.0</td><td>4.046807</td><td>16.82531</td><td>38.79777</td><td>85.02852</td><td>54.11833</td><td>0.8657535543881233</td><td>0.2757199965785285</td><td>0.9570932122099367</td><td>0.5034037640174682</td><td>1.319054690619937</td><td>0.7314758434170625</td><td>-0.36278441716607546</td><td>-0.2657844171660754</td><td>-21.569963262664427</td><td>0.0025093016341671114</td><td>0.055734255355941044</td></tr>\n",
       "</table></div>"
      ],
      "text/plain": [
       "<Table length=5>\n",
       "        RA                DEC              TARGETID     ...           NZ               WEIGHT_FKP     \n",
       "       deg                deg                           ...       h3 / Mpc3                           \n",
       "     float64            float64             int64       ...        float64              float64       \n",
       "------------------ ------------------ ----------------- ... --------------------- --------------------\n",
       "191.14757099005186    60.345815959235 39633390185480938 ... 0.0076878089647186044   0.0189012692383565\n",
       "187.05117249536465 62.614542270156655 39633416324383107 ... 0.0076878089647186044   0.0189012692383565\n",
       "187.83760708675698  60.38987543677365 39633393155049303 ...  0.017861571797760857 0.008223843310435642\n",
       " 188.7298325265811 60.181046704454054 39633390164510257 ... 0.0076878089647186044   0.0189012692383565\n",
       "187.04622815471808  60.82670180284912 39633396124617897 ... 0.0025093016341671114 0.055734255355941044"
      ]
     },
     "execution_count": 7,
     "metadata": {},
     "output_type": "execute_result"
    }
   ],
   "source": [
    "roseta3 = data_N[data_N['ROSETTE_NUMBER'] == 3]\n",
    "roseta3[:5]\n"
   ]
  },
  {
   "cell_type": "code",
   "execution_count": null,
   "id": "a32c5b3c-99cb-459c-929f-aa5b28caa937",
   "metadata": {},
   "outputs": [],
   "source": []
  }
 ],
 "metadata": {
  "kernelspec": {
   "display_name": "Python 3 (ipykernel)",
   "language": "python",
   "name": "python3"
  },
  "language_info": {
   "codemirror_mode": {
    "name": "ipython",
    "version": 3
   },
   "file_extension": ".py",
   "mimetype": "text/x-python",
   "name": "python",
   "nbconvert_exporter": "python",
   "pygments_lexer": "ipython3",
   "version": "3.13.5"
  }
 },
 "nbformat": 4,
 "nbformat_minor": 5
}
